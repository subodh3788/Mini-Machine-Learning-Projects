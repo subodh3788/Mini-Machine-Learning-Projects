{
  "nbformat": 4,
  "nbformat_minor": 0,
  "metadata": {
    "colab": {
      "provenance": []
    },
    "kernelspec": {
      "name": "python3",
      "display_name": "Python 3"
    },
    "language_info": {
      "name": "python"
    }
  },
  "cells": [
    {
      "cell_type": "code",
      "execution_count": null,
      "metadata": {
        "colab": {
          "base_uri": "https://localhost:8080/",
          "height": 424
        },
        "id": "oYKsvbQehWm6",
        "outputId": "e40d90df-fb25-459e-f6d8-0f36f575ccc3"
      },
      "outputs": [
        {
          "output_type": "execute_result",
          "data": {
            "text/plain": [
              "            date      county    state   fips  cases  deaths  population  \\\n",
              "0     2021-02-03     Autauga  Alabama   1001   5753      71       54571   \n",
              "1     2021-02-03     Baldwin  Alabama   1003  18418     228      182265   \n",
              "2     2021-02-03     Barbour  Alabama   1005   1981      42       27457   \n",
              "3     2021-02-03        Bibb  Alabama   1007   2321      52       22915   \n",
              "4     2021-02-03      Blount  Alabama   1009   5768     105       57322   \n",
              "...          ...         ...      ...    ...    ...     ...         ...   \n",
              "3129  2021-02-03  Sweetwater  Wyoming  56037   3519      33       43806   \n",
              "3130  2021-02-03       Teton  Wyoming  56039   3161       7       21294   \n",
              "3131  2021-02-03       Uinta  Wyoming  56041   1981      12       21118   \n",
              "3132  2021-02-03    Washakie  Wyoming  56043    868      26        8533   \n",
              "3133  2021-02-03      Weston  Wyoming  56045    612       4        7208   \n",
              "\n",
              "      cases_per_1000  deaths_per_1000 mandate  \n",
              "0             105.42             1.30     yes  \n",
              "1             101.05             1.25     yes  \n",
              "2              72.15             1.53     yes  \n",
              "3             101.29             2.27     yes  \n",
              "4             100.62             1.83     yes  \n",
              "...              ...              ...     ...  \n",
              "3129           80.33             0.75     yes  \n",
              "3130          148.45             0.33     yes  \n",
              "3131           93.81             0.57     yes  \n",
              "3132          101.72             3.05     yes  \n",
              "3133           84.91             0.55     yes  \n",
              "\n",
              "[3134 rows x 10 columns]"
            ],
            "text/html": [
              "\n",
              "  <div id=\"df-e373c400-348e-497d-a765-60fe35d5bc4e\">\n",
              "    <div class=\"colab-df-container\">\n",
              "      <div>\n",
              "<style scoped>\n",
              "    .dataframe tbody tr th:only-of-type {\n",
              "        vertical-align: middle;\n",
              "    }\n",
              "\n",
              "    .dataframe tbody tr th {\n",
              "        vertical-align: top;\n",
              "    }\n",
              "\n",
              "    .dataframe thead th {\n",
              "        text-align: right;\n",
              "    }\n",
              "</style>\n",
              "<table border=\"1\" class=\"dataframe\">\n",
              "  <thead>\n",
              "    <tr style=\"text-align: right;\">\n",
              "      <th></th>\n",
              "      <th>date</th>\n",
              "      <th>county</th>\n",
              "      <th>state</th>\n",
              "      <th>fips</th>\n",
              "      <th>cases</th>\n",
              "      <th>deaths</th>\n",
              "      <th>population</th>\n",
              "      <th>cases_per_1000</th>\n",
              "      <th>deaths_per_1000</th>\n",
              "      <th>mandate</th>\n",
              "    </tr>\n",
              "  </thead>\n",
              "  <tbody>\n",
              "    <tr>\n",
              "      <th>0</th>\n",
              "      <td>2021-02-03</td>\n",
              "      <td>Autauga</td>\n",
              "      <td>Alabama</td>\n",
              "      <td>1001</td>\n",
              "      <td>5753</td>\n",
              "      <td>71</td>\n",
              "      <td>54571</td>\n",
              "      <td>105.42</td>\n",
              "      <td>1.30</td>\n",
              "      <td>yes</td>\n",
              "    </tr>\n",
              "    <tr>\n",
              "      <th>1</th>\n",
              "      <td>2021-02-03</td>\n",
              "      <td>Baldwin</td>\n",
              "      <td>Alabama</td>\n",
              "      <td>1003</td>\n",
              "      <td>18418</td>\n",
              "      <td>228</td>\n",
              "      <td>182265</td>\n",
              "      <td>101.05</td>\n",
              "      <td>1.25</td>\n",
              "      <td>yes</td>\n",
              "    </tr>\n",
              "    <tr>\n",
              "      <th>2</th>\n",
              "      <td>2021-02-03</td>\n",
              "      <td>Barbour</td>\n",
              "      <td>Alabama</td>\n",
              "      <td>1005</td>\n",
              "      <td>1981</td>\n",
              "      <td>42</td>\n",
              "      <td>27457</td>\n",
              "      <td>72.15</td>\n",
              "      <td>1.53</td>\n",
              "      <td>yes</td>\n",
              "    </tr>\n",
              "    <tr>\n",
              "      <th>3</th>\n",
              "      <td>2021-02-03</td>\n",
              "      <td>Bibb</td>\n",
              "      <td>Alabama</td>\n",
              "      <td>1007</td>\n",
              "      <td>2321</td>\n",
              "      <td>52</td>\n",
              "      <td>22915</td>\n",
              "      <td>101.29</td>\n",
              "      <td>2.27</td>\n",
              "      <td>yes</td>\n",
              "    </tr>\n",
              "    <tr>\n",
              "      <th>4</th>\n",
              "      <td>2021-02-03</td>\n",
              "      <td>Blount</td>\n",
              "      <td>Alabama</td>\n",
              "      <td>1009</td>\n",
              "      <td>5768</td>\n",
              "      <td>105</td>\n",
              "      <td>57322</td>\n",
              "      <td>100.62</td>\n",
              "      <td>1.83</td>\n",
              "      <td>yes</td>\n",
              "    </tr>\n",
              "    <tr>\n",
              "      <th>...</th>\n",
              "      <td>...</td>\n",
              "      <td>...</td>\n",
              "      <td>...</td>\n",
              "      <td>...</td>\n",
              "      <td>...</td>\n",
              "      <td>...</td>\n",
              "      <td>...</td>\n",
              "      <td>...</td>\n",
              "      <td>...</td>\n",
              "      <td>...</td>\n",
              "    </tr>\n",
              "    <tr>\n",
              "      <th>3129</th>\n",
              "      <td>2021-02-03</td>\n",
              "      <td>Sweetwater</td>\n",
              "      <td>Wyoming</td>\n",
              "      <td>56037</td>\n",
              "      <td>3519</td>\n",
              "      <td>33</td>\n",
              "      <td>43806</td>\n",
              "      <td>80.33</td>\n",
              "      <td>0.75</td>\n",
              "      <td>yes</td>\n",
              "    </tr>\n",
              "    <tr>\n",
              "      <th>3130</th>\n",
              "      <td>2021-02-03</td>\n",
              "      <td>Teton</td>\n",
              "      <td>Wyoming</td>\n",
              "      <td>56039</td>\n",
              "      <td>3161</td>\n",
              "      <td>7</td>\n",
              "      <td>21294</td>\n",
              "      <td>148.45</td>\n",
              "      <td>0.33</td>\n",
              "      <td>yes</td>\n",
              "    </tr>\n",
              "    <tr>\n",
              "      <th>3131</th>\n",
              "      <td>2021-02-03</td>\n",
              "      <td>Uinta</td>\n",
              "      <td>Wyoming</td>\n",
              "      <td>56041</td>\n",
              "      <td>1981</td>\n",
              "      <td>12</td>\n",
              "      <td>21118</td>\n",
              "      <td>93.81</td>\n",
              "      <td>0.57</td>\n",
              "      <td>yes</td>\n",
              "    </tr>\n",
              "    <tr>\n",
              "      <th>3132</th>\n",
              "      <td>2021-02-03</td>\n",
              "      <td>Washakie</td>\n",
              "      <td>Wyoming</td>\n",
              "      <td>56043</td>\n",
              "      <td>868</td>\n",
              "      <td>26</td>\n",
              "      <td>8533</td>\n",
              "      <td>101.72</td>\n",
              "      <td>3.05</td>\n",
              "      <td>yes</td>\n",
              "    </tr>\n",
              "    <tr>\n",
              "      <th>3133</th>\n",
              "      <td>2021-02-03</td>\n",
              "      <td>Weston</td>\n",
              "      <td>Wyoming</td>\n",
              "      <td>56045</td>\n",
              "      <td>612</td>\n",
              "      <td>4</td>\n",
              "      <td>7208</td>\n",
              "      <td>84.91</td>\n",
              "      <td>0.55</td>\n",
              "      <td>yes</td>\n",
              "    </tr>\n",
              "  </tbody>\n",
              "</table>\n",
              "<p>3134 rows × 10 columns</p>\n",
              "</div>\n",
              "      <button class=\"colab-df-convert\" onclick=\"convertToInteractive('df-e373c400-348e-497d-a765-60fe35d5bc4e')\"\n",
              "              title=\"Convert this dataframe to an interactive table.\"\n",
              "              style=\"display:none;\">\n",
              "        \n",
              "  <svg xmlns=\"http://www.w3.org/2000/svg\" height=\"24px\"viewBox=\"0 0 24 24\"\n",
              "       width=\"24px\">\n",
              "    <path d=\"M0 0h24v24H0V0z\" fill=\"none\"/>\n",
              "    <path d=\"M18.56 5.44l.94 2.06.94-2.06 2.06-.94-2.06-.94-.94-2.06-.94 2.06-2.06.94zm-11 1L8.5 8.5l.94-2.06 2.06-.94-2.06-.94L8.5 2.5l-.94 2.06-2.06.94zm10 10l.94 2.06.94-2.06 2.06-.94-2.06-.94-.94-2.06-.94 2.06-2.06.94z\"/><path d=\"M17.41 7.96l-1.37-1.37c-.4-.4-.92-.59-1.43-.59-.52 0-1.04.2-1.43.59L10.3 9.45l-7.72 7.72c-.78.78-.78 2.05 0 2.83L4 21.41c.39.39.9.59 1.41.59.51 0 1.02-.2 1.41-.59l7.78-7.78 2.81-2.81c.8-.78.8-2.07 0-2.86zM5.41 20L4 18.59l7.72-7.72 1.47 1.35L5.41 20z\"/>\n",
              "  </svg>\n",
              "      </button>\n",
              "      \n",
              "  <style>\n",
              "    .colab-df-container {\n",
              "      display:flex;\n",
              "      flex-wrap:wrap;\n",
              "      gap: 12px;\n",
              "    }\n",
              "\n",
              "    .colab-df-convert {\n",
              "      background-color: #E8F0FE;\n",
              "      border: none;\n",
              "      border-radius: 50%;\n",
              "      cursor: pointer;\n",
              "      display: none;\n",
              "      fill: #1967D2;\n",
              "      height: 32px;\n",
              "      padding: 0 0 0 0;\n",
              "      width: 32px;\n",
              "    }\n",
              "\n",
              "    .colab-df-convert:hover {\n",
              "      background-color: #E2EBFA;\n",
              "      box-shadow: 0px 1px 2px rgba(60, 64, 67, 0.3), 0px 1px 3px 1px rgba(60, 64, 67, 0.15);\n",
              "      fill: #174EA6;\n",
              "    }\n",
              "\n",
              "    [theme=dark] .colab-df-convert {\n",
              "      background-color: #3B4455;\n",
              "      fill: #D2E3FC;\n",
              "    }\n",
              "\n",
              "    [theme=dark] .colab-df-convert:hover {\n",
              "      background-color: #434B5C;\n",
              "      box-shadow: 0px 1px 3px 1px rgba(0, 0, 0, 0.15);\n",
              "      filter: drop-shadow(0px 1px 2px rgba(0, 0, 0, 0.3));\n",
              "      fill: #FFFFFF;\n",
              "    }\n",
              "  </style>\n",
              "\n",
              "      <script>\n",
              "        const buttonEl =\n",
              "          document.querySelector('#df-e373c400-348e-497d-a765-60fe35d5bc4e button.colab-df-convert');\n",
              "        buttonEl.style.display =\n",
              "          google.colab.kernel.accessAllowed ? 'block' : 'none';\n",
              "\n",
              "        async function convertToInteractive(key) {\n",
              "          const element = document.querySelector('#df-e373c400-348e-497d-a765-60fe35d5bc4e');\n",
              "          const dataTable =\n",
              "            await google.colab.kernel.invokeFunction('convertToInteractive',\n",
              "                                                     [key], {});\n",
              "          if (!dataTable) return;\n",
              "\n",
              "          const docLinkHtml = 'Like what you see? Visit the ' +\n",
              "            '<a target=\"_blank\" href=https://colab.research.google.com/notebooks/data_table.ipynb>data table notebook</a>'\n",
              "            + ' to learn more about interactive tables.';\n",
              "          element.innerHTML = '';\n",
              "          dataTable['output_type'] = 'display_data';\n",
              "          await google.colab.output.renderOutput(dataTable, element);\n",
              "          const docLink = document.createElement('div');\n",
              "          docLink.innerHTML = docLinkHtml;\n",
              "          element.appendChild(docLink);\n",
              "        }\n",
              "      </script>\n",
              "    </div>\n",
              "  </div>\n",
              "  "
            ]
          },
          "metadata": {},
          "execution_count": 14
        }
      ],
      "source": [
        "#from google.colab import files\n",
        "#uploaded = files.upload()     # these allow to upload files from your local computer\n",
        "\n",
        "#from google.colab import drive\n",
        "#drive.mount('/content/drive') #allows upload from google drive\n",
        "\n",
        "\n",
        "import numpy as np\n",
        "from sklearn.neighbors import KNeighborsRegressor\n",
        "from sklearn.model_selection import train_test_split\n",
        "import pandas as pd\n",
        "\n",
        "df = pd.read_csv(\"/content/drive/MyDrive/Python /Colab Notebooks/Statistical Learning/DATA/usCountyCorona.csv\") #path location from drive"
      ]
    },
    {
      "cell_type": "code",
      "source": [
        "\n",
        "\n",
        "\n",
        "# Split the data into features and target\n",
        "X = df[[\"sqft\",\"lot\"]] #we use sqft, and lot to predict the price\n",
        "y = df[\"price\"]\n",
        "\n",
        "# Split the data into training and testing sets\n",
        "X_train, X_test, y_train, y_test = train_test_split(X, y, test_size=0.2, random_state=42)\n",
        "\n",
        "# Train the KNN Regression model\n",
        "knn = KNeighborsRegressor(n_neighbors=7)\n",
        "knn.fit(X_train, y_train)\n",
        "\n",
        "# Predict on the test set\n",
        "y_pred = knn.predict(X_test)\n",
        "\n",
        "# Evaluate the model performance\n",
        "print(\"R2 score:\", knn.score(X_test, y_test))\n"
      ],
      "metadata": {
        "colab": {
          "base_uri": "https://localhost:8080/"
        },
        "id": "1jPwOLSDhfbO",
        "outputId": "c44f2b1c-7d2d-450b-b360-40becf924560"
      },
      "execution_count": null,
      "outputs": [
        {
          "output_type": "stream",
          "name": "stdout",
          "text": [
            "R2 score: 0.4957539747480767\n"
          ]
        }
      ]
    },
    {
      "cell_type": "code",
      "source": [
        "#find the best k\n",
        "\n",
        "from sklearn.model_selection import GridSearchCV\n",
        "\n",
        "\n",
        "# Define the KNN regressor\n",
        "knn = KNeighborsRegressor()\n",
        "\n",
        "# Define the hyperparameter search space\n",
        "param_grid = {'n_neighbors': range(1, 30)}\n",
        "\n",
        "# Create the grid search object\n",
        "grid = GridSearchCV(knn, param_grid, cv=5)\n",
        "\n",
        "# Fit the grid search to the data\n",
        "grid.fit(X, y)\n",
        "\n",
        "# Get the best value of k\n",
        "best_k = grid.best_params_['n_neighbors']\n"
      ],
      "metadata": {
        "colab": {
          "base_uri": "https://localhost:8080/"
        },
        "id": "aMLgivoIhmwN",
        "outputId": "add55d06-ed41-4e07-9496-b601ed3774bd"
      },
      "execution_count": null,
      "outputs": [
        {
          "output_type": "execute_result",
          "data": {
            "text/plain": [
              "6"
            ]
          },
          "metadata": {},
          "execution_count": 15
        }
      ]
    },
    {
      "cell_type": "code",
      "source": [
        "#FInd RMSE\n",
        "from sklearn.metrics import mean_squared_error\n",
        "mse = mean_squared_error(y_test, y_pred)\n",
        "rmse = np.sqrt(mse)\n",
        "print(\"RMSE:\", rmse)"
      ],
      "metadata": {
        "colab": {
          "base_uri": "https://localhost:8080/"
        },
        "id": "xL8UVl0Ljlm5",
        "outputId": "58667e40-7ea3-4f91-ff60-057efa3673cb"
      },
      "execution_count": null,
      "outputs": [
        {
          "output_type": "stream",
          "name": "stdout",
          "text": [
            "RMSE: 121585.53248613435\n"
          ]
        }
      ]
    },
    {
      "cell_type": "code",
      "source": [],
      "metadata": {
        "id": "f33nMndlk9yk"
      },
      "execution_count": null,
      "outputs": []
    },
    {
      "cell_type": "markdown",
      "source": [
        "# Do it Manually\n"
      ],
      "metadata": {
        "id": "OLFRwcWclTYp"
      }
    },
    {
      "cell_type": "code",
      "source": [
        "import numpy as np\n",
        "from math import sqrt\n",
        "\n",
        "class KNNRegressor:\n",
        "  def __init__(self, k=5):\n",
        "    self.k = k\n",
        "    \n",
        "  def fit(self, X, y):\n",
        "    self.X_train = X\n",
        "    self.y_train = y\n",
        "    \n",
        "  def predict(self, X_test):\n",
        "    y_pred = []\n",
        "    for x in X_test:\n",
        "      distances = [sqrt(np.sum((x - x_train)**2)) for x_train in self.X_train]\n",
        "      k_neighbors = np.argsort(distances)[:self.k]\n",
        "      k_neighbors_labels = [self.y_train[i] for i in k_neighbors]\n",
        "      y_pred.append(np.mean(k_neighbors_labels))\n",
        "    return y_pred\n"
      ],
      "metadata": {
        "id": "-19ST1GWlbG-"
      },
      "execution_count": null,
      "outputs": []
    },
    {
      "cell_type": "code",
      "source": [],
      "metadata": {
        "id": "jj1vSy_ElcuZ"
      },
      "execution_count": null,
      "outputs": []
    },
    {
      "cell_type": "markdown",
      "source": [
        "KNN CLASSIFIER\n"
      ],
      "metadata": {
        "id": "HkF8iRmZ_iPI"
      }
    },
    {
      "cell_type": "code",
      "source": [
        "!ls \"/content/drive\"\n",
        "df2 = pd.read_csv(\"/content/drive/MyDrive/Python /Colab Notebooks/Statistical Learning/DATA/usCountyCorona.csv\")\n",
        "from sklearn.neighbors import KNeighborsClassifier\n",
        "df2.head()"
      ],
      "metadata": {
        "colab": {
          "base_uri": "https://localhost:8080/",
          "height": 224
        },
        "id": "W4LTx_PT_lLJ",
        "outputId": "502ca6ed-5e55-4816-af24-daaba370921a"
      },
      "execution_count": null,
      "outputs": [
        {
          "output_type": "stream",
          "name": "stdout",
          "text": [
            "MyDrive\n"
          ]
        },
        {
          "output_type": "execute_result",
          "data": {
            "text/plain": [
              "         date   county    state  fips  cases  deaths  population  \\\n",
              "0  2021-02-03  Autauga  Alabama  1001   5753      71       54571   \n",
              "1  2021-02-03  Baldwin  Alabama  1003  18418     228      182265   \n",
              "2  2021-02-03  Barbour  Alabama  1005   1981      42       27457   \n",
              "3  2021-02-03     Bibb  Alabama  1007   2321      52       22915   \n",
              "4  2021-02-03   Blount  Alabama  1009   5768     105       57322   \n",
              "\n",
              "   cases_per_1000  deaths_per_1000 mandate  \n",
              "0          105.42             1.30     yes  \n",
              "1          101.05             1.25     yes  \n",
              "2           72.15             1.53     yes  \n",
              "3          101.29             2.27     yes  \n",
              "4          100.62             1.83     yes  "
            ],
            "text/html": [
              "\n",
              "  <div id=\"df-323d1cd8-c149-4711-a951-1bfa35b6bde8\">\n",
              "    <div class=\"colab-df-container\">\n",
              "      <div>\n",
              "<style scoped>\n",
              "    .dataframe tbody tr th:only-of-type {\n",
              "        vertical-align: middle;\n",
              "    }\n",
              "\n",
              "    .dataframe tbody tr th {\n",
              "        vertical-align: top;\n",
              "    }\n",
              "\n",
              "    .dataframe thead th {\n",
              "        text-align: right;\n",
              "    }\n",
              "</style>\n",
              "<table border=\"1\" class=\"dataframe\">\n",
              "  <thead>\n",
              "    <tr style=\"text-align: right;\">\n",
              "      <th></th>\n",
              "      <th>date</th>\n",
              "      <th>county</th>\n",
              "      <th>state</th>\n",
              "      <th>fips</th>\n",
              "      <th>cases</th>\n",
              "      <th>deaths</th>\n",
              "      <th>population</th>\n",
              "      <th>cases_per_1000</th>\n",
              "      <th>deaths_per_1000</th>\n",
              "      <th>mandate</th>\n",
              "    </tr>\n",
              "  </thead>\n",
              "  <tbody>\n",
              "    <tr>\n",
              "      <th>0</th>\n",
              "      <td>2021-02-03</td>\n",
              "      <td>Autauga</td>\n",
              "      <td>Alabama</td>\n",
              "      <td>1001</td>\n",
              "      <td>5753</td>\n",
              "      <td>71</td>\n",
              "      <td>54571</td>\n",
              "      <td>105.42</td>\n",
              "      <td>1.30</td>\n",
              "      <td>yes</td>\n",
              "    </tr>\n",
              "    <tr>\n",
              "      <th>1</th>\n",
              "      <td>2021-02-03</td>\n",
              "      <td>Baldwin</td>\n",
              "      <td>Alabama</td>\n",
              "      <td>1003</td>\n",
              "      <td>18418</td>\n",
              "      <td>228</td>\n",
              "      <td>182265</td>\n",
              "      <td>101.05</td>\n",
              "      <td>1.25</td>\n",
              "      <td>yes</td>\n",
              "    </tr>\n",
              "    <tr>\n",
              "      <th>2</th>\n",
              "      <td>2021-02-03</td>\n",
              "      <td>Barbour</td>\n",
              "      <td>Alabama</td>\n",
              "      <td>1005</td>\n",
              "      <td>1981</td>\n",
              "      <td>42</td>\n",
              "      <td>27457</td>\n",
              "      <td>72.15</td>\n",
              "      <td>1.53</td>\n",
              "      <td>yes</td>\n",
              "    </tr>\n",
              "    <tr>\n",
              "      <th>3</th>\n",
              "      <td>2021-02-03</td>\n",
              "      <td>Bibb</td>\n",
              "      <td>Alabama</td>\n",
              "      <td>1007</td>\n",
              "      <td>2321</td>\n",
              "      <td>52</td>\n",
              "      <td>22915</td>\n",
              "      <td>101.29</td>\n",
              "      <td>2.27</td>\n",
              "      <td>yes</td>\n",
              "    </tr>\n",
              "    <tr>\n",
              "      <th>4</th>\n",
              "      <td>2021-02-03</td>\n",
              "      <td>Blount</td>\n",
              "      <td>Alabama</td>\n",
              "      <td>1009</td>\n",
              "      <td>5768</td>\n",
              "      <td>105</td>\n",
              "      <td>57322</td>\n",
              "      <td>100.62</td>\n",
              "      <td>1.83</td>\n",
              "      <td>yes</td>\n",
              "    </tr>\n",
              "  </tbody>\n",
              "</table>\n",
              "</div>\n",
              "      <button class=\"colab-df-convert\" onclick=\"convertToInteractive('df-323d1cd8-c149-4711-a951-1bfa35b6bde8')\"\n",
              "              title=\"Convert this dataframe to an interactive table.\"\n",
              "              style=\"display:none;\">\n",
              "        \n",
              "  <svg xmlns=\"http://www.w3.org/2000/svg\" height=\"24px\"viewBox=\"0 0 24 24\"\n",
              "       width=\"24px\">\n",
              "    <path d=\"M0 0h24v24H0V0z\" fill=\"none\"/>\n",
              "    <path d=\"M18.56 5.44l.94 2.06.94-2.06 2.06-.94-2.06-.94-.94-2.06-.94 2.06-2.06.94zm-11 1L8.5 8.5l.94-2.06 2.06-.94-2.06-.94L8.5 2.5l-.94 2.06-2.06.94zm10 10l.94 2.06.94-2.06 2.06-.94-2.06-.94-.94-2.06-.94 2.06-2.06.94z\"/><path d=\"M17.41 7.96l-1.37-1.37c-.4-.4-.92-.59-1.43-.59-.52 0-1.04.2-1.43.59L10.3 9.45l-7.72 7.72c-.78.78-.78 2.05 0 2.83L4 21.41c.39.39.9.59 1.41.59.51 0 1.02-.2 1.41-.59l7.78-7.78 2.81-2.81c.8-.78.8-2.07 0-2.86zM5.41 20L4 18.59l7.72-7.72 1.47 1.35L5.41 20z\"/>\n",
              "  </svg>\n",
              "      </button>\n",
              "      \n",
              "  <style>\n",
              "    .colab-df-container {\n",
              "      display:flex;\n",
              "      flex-wrap:wrap;\n",
              "      gap: 12px;\n",
              "    }\n",
              "\n",
              "    .colab-df-convert {\n",
              "      background-color: #E8F0FE;\n",
              "      border: none;\n",
              "      border-radius: 50%;\n",
              "      cursor: pointer;\n",
              "      display: none;\n",
              "      fill: #1967D2;\n",
              "      height: 32px;\n",
              "      padding: 0 0 0 0;\n",
              "      width: 32px;\n",
              "    }\n",
              "\n",
              "    .colab-df-convert:hover {\n",
              "      background-color: #E2EBFA;\n",
              "      box-shadow: 0px 1px 2px rgba(60, 64, 67, 0.3), 0px 1px 3px 1px rgba(60, 64, 67, 0.15);\n",
              "      fill: #174EA6;\n",
              "    }\n",
              "\n",
              "    [theme=dark] .colab-df-convert {\n",
              "      background-color: #3B4455;\n",
              "      fill: #D2E3FC;\n",
              "    }\n",
              "\n",
              "    [theme=dark] .colab-df-convert:hover {\n",
              "      background-color: #434B5C;\n",
              "      box-shadow: 0px 1px 3px 1px rgba(0, 0, 0, 0.15);\n",
              "      filter: drop-shadow(0px 1px 2px rgba(0, 0, 0, 0.3));\n",
              "      fill: #FFFFFF;\n",
              "    }\n",
              "  </style>\n",
              "\n",
              "      <script>\n",
              "        const buttonEl =\n",
              "          document.querySelector('#df-323d1cd8-c149-4711-a951-1bfa35b6bde8 button.colab-df-convert');\n",
              "        buttonEl.style.display =\n",
              "          google.colab.kernel.accessAllowed ? 'block' : 'none';\n",
              "\n",
              "        async function convertToInteractive(key) {\n",
              "          const element = document.querySelector('#df-323d1cd8-c149-4711-a951-1bfa35b6bde8');\n",
              "          const dataTable =\n",
              "            await google.colab.kernel.invokeFunction('convertToInteractive',\n",
              "                                                     [key], {});\n",
              "          if (!dataTable) return;\n",
              "\n",
              "          const docLinkHtml = 'Like what you see? Visit the ' +\n",
              "            '<a target=\"_blank\" href=https://colab.research.google.com/notebooks/data_table.ipynb>data table notebook</a>'\n",
              "            + ' to learn more about interactive tables.';\n",
              "          element.innerHTML = '';\n",
              "          dataTable['output_type'] = 'display_data';\n",
              "          await google.colab.output.renderOutput(dataTable, element);\n",
              "          const docLink = document.createElement('div');\n",
              "          docLink.innerHTML = docLinkHtml;\n",
              "          element.appendChild(docLink);\n",
              "        }\n",
              "      </script>\n",
              "    </div>\n",
              "  </div>\n",
              "  "
            ]
          },
          "metadata": {},
          "execution_count": 20
        }
      ]
    },
    {
      "cell_type": "code",
      "source": [
        "# Split the data into features and target\n",
        "x2 = df[[\"cases_per_1000\",\"deaths_per_1000\"]] #we use sqft, and lot to predict the price\n",
        "y2 = df[\"mandate\"]"
      ],
      "metadata": {
        "id": "Xdfanrga_mRh"
      },
      "execution_count": null,
      "outputs": []
    },
    {
      "cell_type": "code",
      "source": [
        "from sklearn.preprocessing import StandardScaler #to standarize\n",
        "\n",
        "x2_train, x2_test, y2_train, y2_test = train_test_split(x2, y2, test_size=0.2)\n",
        "scaler = StandardScaler()\n",
        "x2_train = scaler.fit_transform(x2_train)\n",
        "x2_test = scaler.transform(x2_test)"
      ],
      "metadata": {
        "colab": {
          "base_uri": "https://localhost:8080/"
        },
        "id": "Xs6aSsZ3C6sG",
        "outputId": "3d52cb96-4fd7-45b0-8c49-7f2076634732"
      },
      "execution_count": null,
      "outputs": [
        {
          "output_type": "execute_result",
          "data": {
            "text/plain": [
              "array([[ 0.77322689,  1.07001202],\n",
              "       [ 1.63345711,  0.19148054],\n",
              "       [-0.44860304, -0.32352067],\n",
              "       ...,\n",
              "       [ 1.54457227,  0.34295149],\n",
              "       [-0.63478986, -0.67695287],\n",
              "       [ 1.23684216, -0.87891413]])"
            ]
          },
          "metadata": {},
          "execution_count": 28
        }
      ]
    },
    {
      "cell_type": "code",
      "source": [
        "\n",
        "# Initialize the KNN classifier\n",
        "knn = KNeighborsClassifier(n_neighbors=5)\n",
        "\n",
        "# Fit the model to the training data\n",
        "knn.fit(x2_train, y2_train)\n",
        "\n",
        "# Predict the classes of the test data\n",
        "y2_pred = knn.predict(x2_test)\n",
        "\n",
        "# Evaluate the accuracy of the model\n",
        "accuracy = np.mean(y2_pred == y2_test)\n",
        "print(\"Accuracy: \", accuracy)"
      ],
      "metadata": {
        "colab": {
          "base_uri": "https://localhost:8080/"
        },
        "id": "n4T9-YOmEvGC",
        "outputId": "f498ca5c-f870-4a3a-ab11-6ac3ac7e0bd9"
      },
      "execution_count": null,
      "outputs": [
        {
          "output_type": "stream",
          "name": "stdout",
          "text": [
            "Accuracy:  0.6730462519936204\n"
          ]
        }
      ]
    },
    {
      "cell_type": "code",
      "source": [
        "from sklearn.metrics import accuracy_score\n",
        "accuracies = []\n",
        "for k in range(1, 30):\n",
        "    knn = KNeighborsClassifier(n_neighbors=k)\n",
        "    knn.fit(x2_train, y2_train)\n",
        "    y2_pred = knn.predict(x2_test)\n",
        "    accuracy = accuracy_score(y2_test, y2_pred) \n",
        "    accuracies.append(accuracy)\n",
        "\n",
        "# Find the value of k that gives the highest accuracy\n",
        "best_k = np.argmax(accuracies) + 1\n",
        "print(\"Best value for k: \", best_k)"
      ],
      "metadata": {
        "colab": {
          "base_uri": "https://localhost:8080/"
        },
        "id": "1_mj7sWEE-H_",
        "outputId": "ccc90e05-c532-4b66-f4c3-aa0b9400a515"
      },
      "execution_count": null,
      "outputs": [
        {
          "output_type": "stream",
          "name": "stdout",
          "text": [
            "Best value for k:  28\n"
          ]
        }
      ]
    },
    {
      "cell_type": "code",
      "source": [],
      "metadata": {
        "id": "0dYL1O3JGlP6"
      },
      "execution_count": null,
      "outputs": []
    }
  ]
}