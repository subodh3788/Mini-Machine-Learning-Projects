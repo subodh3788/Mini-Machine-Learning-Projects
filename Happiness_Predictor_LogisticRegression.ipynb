{
  "nbformat": 4,
  "nbformat_minor": 0,
  "metadata": {
    "colab": {
      "provenance": []
    },
    "kernelspec": {
      "name": "python3",
      "display_name": "Python 3"
    },
    "language_info": {
      "name": "python"
    }
  },
  "cells": [
    {
      "cell_type": "code",
      "execution_count": 8,
      "metadata": {
        "colab": {
          "base_uri": "https://localhost:8080/",
          "height": 206
        },
        "id": "RH7OK7FpGQ-5",
        "outputId": "fdd0b48d-7869-40bd-e893-74c4045ba238"
      },
      "outputs": [
        {
          "output_type": "execute_result",
          "data": {
            "text/plain": [
              "  id   marital age       degree     sex      happiness          health  \\\n",
              "0  1  Divorced  53     Bachelor    Male     Very happy       Excellent   \n",
              "1  2   Married  26     Bachelor  Female     Very happy       Excellent   \n",
              "2  3  Divorced  59  High school    Male  Not too happy            Good   \n",
              "3  4   Married  56     Bachelor  Female     Very happy  Not applicable   \n",
              "4  5   Married  74     Bachelor  Female     Very happy       Excellent   \n",
              "\n",
              "         finrela  \n",
              "0  Above average  \n",
              "1  Above average  \n",
              "2  Below average  \n",
              "3  Above average  \n",
              "4        Average  "
            ],
            "text/html": [
              "\n",
              "  <div id=\"df-a2f0f915-3ec0-4997-8c30-c42d21ba425c\">\n",
              "    <div class=\"colab-df-container\">\n",
              "      <div>\n",
              "<style scoped>\n",
              "    .dataframe tbody tr th:only-of-type {\n",
              "        vertical-align: middle;\n",
              "    }\n",
              "\n",
              "    .dataframe tbody tr th {\n",
              "        vertical-align: top;\n",
              "    }\n",
              "\n",
              "    .dataframe thead th {\n",
              "        text-align: right;\n",
              "    }\n",
              "</style>\n",
              "<table border=\"1\" class=\"dataframe\">\n",
              "  <thead>\n",
              "    <tr style=\"text-align: right;\">\n",
              "      <th></th>\n",
              "      <th>id</th>\n",
              "      <th>marital</th>\n",
              "      <th>age</th>\n",
              "      <th>degree</th>\n",
              "      <th>sex</th>\n",
              "      <th>happiness</th>\n",
              "      <th>health</th>\n",
              "      <th>finrela</th>\n",
              "    </tr>\n",
              "  </thead>\n",
              "  <tbody>\n",
              "    <tr>\n",
              "      <th>0</th>\n",
              "      <td>1</td>\n",
              "      <td>Divorced</td>\n",
              "      <td>53</td>\n",
              "      <td>Bachelor</td>\n",
              "      <td>Male</td>\n",
              "      <td>Very happy</td>\n",
              "      <td>Excellent</td>\n",
              "      <td>Above average</td>\n",
              "    </tr>\n",
              "    <tr>\n",
              "      <th>1</th>\n",
              "      <td>2</td>\n",
              "      <td>Married</td>\n",
              "      <td>26</td>\n",
              "      <td>Bachelor</td>\n",
              "      <td>Female</td>\n",
              "      <td>Very happy</td>\n",
              "      <td>Excellent</td>\n",
              "      <td>Above average</td>\n",
              "    </tr>\n",
              "    <tr>\n",
              "      <th>2</th>\n",
              "      <td>3</td>\n",
              "      <td>Divorced</td>\n",
              "      <td>59</td>\n",
              "      <td>High school</td>\n",
              "      <td>Male</td>\n",
              "      <td>Not too happy</td>\n",
              "      <td>Good</td>\n",
              "      <td>Below average</td>\n",
              "    </tr>\n",
              "    <tr>\n",
              "      <th>3</th>\n",
              "      <td>4</td>\n",
              "      <td>Married</td>\n",
              "      <td>56</td>\n",
              "      <td>Bachelor</td>\n",
              "      <td>Female</td>\n",
              "      <td>Very happy</td>\n",
              "      <td>Not applicable</td>\n",
              "      <td>Above average</td>\n",
              "    </tr>\n",
              "    <tr>\n",
              "      <th>4</th>\n",
              "      <td>5</td>\n",
              "      <td>Married</td>\n",
              "      <td>74</td>\n",
              "      <td>Bachelor</td>\n",
              "      <td>Female</td>\n",
              "      <td>Very happy</td>\n",
              "      <td>Excellent</td>\n",
              "      <td>Average</td>\n",
              "    </tr>\n",
              "  </tbody>\n",
              "</table>\n",
              "</div>\n",
              "      <button class=\"colab-df-convert\" onclick=\"convertToInteractive('df-a2f0f915-3ec0-4997-8c30-c42d21ba425c')\"\n",
              "              title=\"Convert this dataframe to an interactive table.\"\n",
              "              style=\"display:none;\">\n",
              "        \n",
              "  <svg xmlns=\"http://www.w3.org/2000/svg\" height=\"24px\"viewBox=\"0 0 24 24\"\n",
              "       width=\"24px\">\n",
              "    <path d=\"M0 0h24v24H0V0z\" fill=\"none\"/>\n",
              "    <path d=\"M18.56 5.44l.94 2.06.94-2.06 2.06-.94-2.06-.94-.94-2.06-.94 2.06-2.06.94zm-11 1L8.5 8.5l.94-2.06 2.06-.94-2.06-.94L8.5 2.5l-.94 2.06-2.06.94zm10 10l.94 2.06.94-2.06 2.06-.94-2.06-.94-.94-2.06-.94 2.06-2.06.94z\"/><path d=\"M17.41 7.96l-1.37-1.37c-.4-.4-.92-.59-1.43-.59-.52 0-1.04.2-1.43.59L10.3 9.45l-7.72 7.72c-.78.78-.78 2.05 0 2.83L4 21.41c.39.39.9.59 1.41.59.51 0 1.02-.2 1.41-.59l7.78-7.78 2.81-2.81c.8-.78.8-2.07 0-2.86zM5.41 20L4 18.59l7.72-7.72 1.47 1.35L5.41 20z\"/>\n",
              "  </svg>\n",
              "      </button>\n",
              "      \n",
              "  <style>\n",
              "    .colab-df-container {\n",
              "      display:flex;\n",
              "      flex-wrap:wrap;\n",
              "      gap: 12px;\n",
              "    }\n",
              "\n",
              "    .colab-df-convert {\n",
              "      background-color: #E8F0FE;\n",
              "      border: none;\n",
              "      border-radius: 50%;\n",
              "      cursor: pointer;\n",
              "      display: none;\n",
              "      fill: #1967D2;\n",
              "      height: 32px;\n",
              "      padding: 0 0 0 0;\n",
              "      width: 32px;\n",
              "    }\n",
              "\n",
              "    .colab-df-convert:hover {\n",
              "      background-color: #E2EBFA;\n",
              "      box-shadow: 0px 1px 2px rgba(60, 64, 67, 0.3), 0px 1px 3px 1px rgba(60, 64, 67, 0.15);\n",
              "      fill: #174EA6;\n",
              "    }\n",
              "\n",
              "    [theme=dark] .colab-df-convert {\n",
              "      background-color: #3B4455;\n",
              "      fill: #D2E3FC;\n",
              "    }\n",
              "\n",
              "    [theme=dark] .colab-df-convert:hover {\n",
              "      background-color: #434B5C;\n",
              "      box-shadow: 0px 1px 3px 1px rgba(0, 0, 0, 0.15);\n",
              "      filter: drop-shadow(0px 1px 2px rgba(0, 0, 0, 0.3));\n",
              "      fill: #FFFFFF;\n",
              "    }\n",
              "  </style>\n",
              "\n",
              "      <script>\n",
              "        const buttonEl =\n",
              "          document.querySelector('#df-a2f0f915-3ec0-4997-8c30-c42d21ba425c button.colab-df-convert');\n",
              "        buttonEl.style.display =\n",
              "          google.colab.kernel.accessAllowed ? 'block' : 'none';\n",
              "\n",
              "        async function convertToInteractive(key) {\n",
              "          const element = document.querySelector('#df-a2f0f915-3ec0-4997-8c30-c42d21ba425c');\n",
              "          const dataTable =\n",
              "            await google.colab.kernel.invokeFunction('convertToInteractive',\n",
              "                                                     [key], {});\n",
              "          if (!dataTable) return;\n",
              "\n",
              "          const docLinkHtml = 'Like what you see? Visit the ' +\n",
              "            '<a target=\"_blank\" href=https://colab.research.google.com/notebooks/data_table.ipynb>data table notebook</a>'\n",
              "            + ' to learn more about interactive tables.';\n",
              "          element.innerHTML = '';\n",
              "          dataTable['output_type'] = 'display_data';\n",
              "          await google.colab.output.renderOutput(dataTable, element);\n",
              "          const docLink = document.createElement('div');\n",
              "          docLink.innerHTML = docLinkHtml;\n",
              "          element.appendChild(docLink);\n",
              "        }\n",
              "      </script>\n",
              "    </div>\n",
              "  </div>\n",
              "  "
            ]
          },
          "metadata": {},
          "execution_count": 8
        }
      ],
      "source": [
        "#from google.colab import drive\n",
        "#drive.mount('/content/drive') #allows upload from google drive\n",
        "import numpy as np\n",
        "import pandas as pd\n",
        "\n",
        "df = pd.read_csv(\"/content/drive/MyDrive/Python /Colab Notebooks/Statistical Learning/DATA/happiness.csv\") #path location from drive\n",
        "df.head()"
      ]
    },
    {
      "cell_type": "code",
      "source": [
        "df['happiness'].value_counts()"
      ],
      "metadata": {
        "colab": {
          "base_uri": "https://localhost:8080/"
        },
        "id": "lfF6S8hKGWNk",
        "outputId": "58f9d8ed-9d69-47e3-be01-4b4ae83a0ca6"
      },
      "execution_count": 2,
      "outputs": [
        {
          "output_type": "execute_result",
          "data": {
            "text/plain": [
              "Pretty happy     1403\n",
              "Very happy        786\n",
              "Not too happy     341\n",
              "Don't know          6\n",
              "No answer           2\n",
              "Name: happiness, dtype: int64"
            ]
          },
          "metadata": {},
          "execution_count": 2
        }
      ]
    },
    {
      "cell_type": "code",
      "source": [
        "# remove don't know and no answer\n",
        "# Use boolean indexing to select only the rows where the category is not 'No Answer' or 'Don't Know'\n",
        "#df = df.dropna(subset=['happiness']) #drop Nan values first\n",
        "df=df.dropna()\n",
        "df = df[~df.isin([\"No answer\",\"Don't know\"]).any(axis=1)]\n",
        "#df = df[~df[['happiness','finrela']].isin(['No answer', \"Don't know\"])]\n",
        "\n",
        "# Happiness is three levels, needs to be two\n",
        "#  binary = 0 if happiness level = \"not too happy\"\n",
        "#  binary = 1 if happiness level = \"pretty happy\" or \"very happy\"\n",
        "df['happiness'] = df['happiness'].apply(lambda x: 0 if x == 'Not too happy' else 1)\n",
        "df['happiness'].value_counts()"
      ],
      "metadata": {
        "colab": {
          "base_uri": "https://localhost:8080/"
        },
        "id": "hAfQOVjhG0tq",
        "outputId": "bd9e2fd3-51ff-4234-8258-11e1540a240e"
      },
      "execution_count": 3,
      "outputs": [
        {
          "output_type": "execute_result",
          "data": {
            "text/plain": [
              "1    2159\n",
              "0     332\n",
              "Name: happiness, dtype: int64"
            ]
          },
          "metadata": {},
          "execution_count": 3
        }
      ]
    },
    {
      "cell_type": "code",
      "source": [
        "from sklearn.linear_model import LogisticRegression\n",
        "from sklearn.model_selection import train_test_split\n"
      ],
      "metadata": {
        "id": "oAWItWLRH_kd"
      },
      "execution_count": 4,
      "outputs": []
    },
    {
      "cell_type": "code",
      "source": [
        "df2=df"
      ],
      "metadata": {
        "id": "4YH0RyxFKCgA"
      },
      "execution_count": 5,
      "outputs": []
    },
    {
      "cell_type": "code",
      "source": [
        "df2 = pd.get_dummies(df2, columns=['finrela'], prefix='finrela') #one hot encoding for categorical\n",
        "df2 = df2[df2['age'].apply(lambda x: x.isdigit() if isinstance(x, str) else True)] #if age has anything other than int, it removes it"
      ],
      "metadata": {
        "id": "pM8HhgipK-no"
      },
      "execution_count": 6,
      "outputs": []
    },
    {
      "cell_type": "code",
      "source": [
        "X = df2[['age','finrela_Above average','finrela_Average','finrela_Below average','finrela_Far above average','finrela_Far below average']]\n",
        "y = df2['happiness']\n",
        "\n",
        "# Split the data into training and testing sets\n",
        "X_train, X_test, y_train, y_test = train_test_split(X, y, test_size=0.2, random_state=0)\n",
        "\n",
        "# Fit the logistic regression model\n",
        "clf = LogisticRegression()\n",
        "clf.fit(X_train, y_train)\n",
        "\n",
        "# Predict the happiness values for the testing set\n",
        "y_pred = clf.predict(X_test)\n",
        "\n",
        "# Print the prediction accuracy\n",
        "accuracy = clf.score(X_test, y_test)\n",
        "print(\"Accuracy (two predictors):\", accuracy)"
      ],
      "metadata": {
        "colab": {
          "base_uri": "https://localhost:8080/"
        },
        "id": "otTQZNW5LecG",
        "outputId": "decb1437-5992-4177-d82b-858013568450"
      },
      "execution_count": 7,
      "outputs": [
        {
          "output_type": "stream",
          "name": "stdout",
          "text": [
            "Accuracy (two predictors): 0.8747474747474747\n"
          ]
        }
      ]
    },
    {
      "cell_type": "code",
      "source": [],
      "metadata": {
        "id": "_Zk_-WCEL4dD"
      },
      "execution_count": 7,
      "outputs": []
    },
    {
      "cell_type": "code",
      "source": [],
      "metadata": {
        "id": "RbS2rpXAMH9q"
      },
      "execution_count": 7,
      "outputs": []
    }
  ]
}